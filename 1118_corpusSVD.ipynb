{
 "cells": [
  {
   "cell_type": "code",
   "execution_count": 1,
   "metadata": {},
   "outputs": [],
   "source": [
    "import numpy as np\n",
    "import matplotlib.pyplot as plt"
   ]
  },
  {
   "cell_type": "code",
   "execution_count": 2,
   "metadata": {},
   "outputs": [],
   "source": [
    "def preprocessing(text):\n",
    "    \n",
    "    text = text.lower()\n",
    "    text = text.replace('.', ' .')\n",
    "    words = text.split(' ')\n",
    "    word_to_id = {}\n",
    "    id_to_word = {}\n",
    "    \n",
    "    for word in words:\n",
    "        if word not in word_to_id:\n",
    "            new_id = len(word_to_id)\n",
    "            word_to_id[word] = new_id\n",
    "            id_to_word[new_id] = word\n",
    "        \n",
    "    corpus = np.array([word_to_id[w] for w in words])\n",
    "    \n",
    "    return corpus, word_to_id, id_to_word"
   ]
  },
  {
   "cell_type": "code",
   "execution_count": 18,
   "metadata": {},
   "outputs": [],
   "source": [
    "def create_to_matrix(corpus, vocab_size, window_size=1):\n",
    "    corpus_size = len(corpus)\n",
    "    co_matrix = np.zeros((vocab_size, vocab_size), dtype=np.int32)\n",
    "    \n",
    "    for idx, word_id in enumerate(corpus):\n",
    "        for i in range(1, window_size+1):\n",
    "            left_idx = idx - i\n",
    "            right_idx = idx + i\n",
    "            \n",
    "            if left_idx >= 0:\n",
    "                left_word_id = corpus[left_idx]\n",
    "                co_matrix[word_id, left_word_id] += 1\n",
    "                \n",
    "            if right_idx < corpus_size:\n",
    "                right_word_id = corpus[right_idx]\n",
    "                co_matrix[word_id, right_word_id] += 1\n",
    "                \n",
    "    return co_matrix"
   ]
  },
  {
   "cell_type": "code",
   "execution_count": 19,
   "metadata": {},
   "outputs": [],
   "source": [
    "def cos_similarity(x, y, eps=1e-8):\n",
    "    \n",
    "    # 분모 0이 되지않게 하기 위해서 epsilon을 더해준다\n",
    "    nx = x / np.sqrt(np.sum(x**2) + eps)\n",
    "    ny = y / np.sqrt(np.sum(y**2) + eps)\n",
    "    \n",
    "    return np.dot(nx, ny)"
   ]
  },
  {
   "cell_type": "code",
   "execution_count": 20,
   "metadata": {},
   "outputs": [],
   "source": [
    "def most_similar(query, word_to_id, id_to_word, word_matrix, top=5):\n",
    "    \n",
    "  # 1.검색어를 꺼낸다.\n",
    "    if query not in word_to_id:\n",
    "        print('%s(을)를 찾을 수 없습니다.' % query)\n",
    "        return\n",
    "\n",
    "    print('\\n[query] ' + query)\n",
    "    query_id = word_to_id[query]\n",
    "    query_vec = word_matrix[query_id]\n",
    "  \n",
    "\n",
    "  # 2. 코사인 유사도 계산\n",
    "    vocab_size = len(id_to_word)\n",
    "\n",
    "    similarity = np.zeros(vocab_size)\n",
    "    for i in range(vocab_size):\n",
    "        similarity[i] = cos_similarity(word_matrix[i], query_vec)\n",
    "        \n",
    "        \n",
    "  # 3. 코사인 유사도를 기준으로 내림차순으로 출력\n",
    "    count = 0\n",
    "    for i in (-1 * similarity).argsort():\n",
    "        if id_to_word[i] == query:\n",
    "            continue\n",
    "        print(' %s: %s' % (id_to_word[i], similarity[i]))\n",
    "\n",
    "        count += 1\n",
    "        if count >= top:\n",
    "            return"
   ]
  },
  {
   "cell_type": "code",
   "execution_count": 21,
   "metadata": {},
   "outputs": [],
   "source": [
    "def ppmi(C, verbose=False, eps=1e-8):\n",
    "    M = np.zeros_like(C, dtype=np.float32)\n",
    "    N = np.sum(C)\n",
    "    S = np.sum(C, axis=0)\n",
    "    total = C.shape[0] * C.shape[1]\n",
    "    cnt = 0\n",
    "    \n",
    "    for i in range(C.shape[0]):\n",
    "        for j in range(C.shape[1]):\n",
    "            pmi = np.log2(C[i, j]*N / (S[j]*S[i]) + eps)\n",
    "            M[i, j] = max(0, pmi)\n",
    "            \n",
    "            if verbose:\n",
    "                cnt += 1\n",
    "                if cnt % (total//100) == 0:\n",
    "                    print('%.1f%% 완료' %(100*cnt/total))\n",
    "                    \n",
    "    return M"
   ]
  },
  {
   "cell_type": "code",
   "execution_count": 22,
   "metadata": {},
   "outputs": [],
   "source": [
    "text = 'You say goodbye and I say hello'\n",
    "corpus, word_to_id, id_to_word = preprocessing(text)\n",
    "\n",
    "vocab_size = len(id_to_word)\n",
    "C = create_to_matrix(corpus, vocab_size, window_size=1)\n",
    "\n",
    "#most_similar('you', word_to_id, id_to_word, C)"
   ]
  },
  {
   "cell_type": "code",
   "execution_count": 23,
   "metadata": {},
   "outputs": [
    {
     "data": {
      "text/plain": [
       "array([[0, 1, 0, 0, 0, 0],\n",
       "       [1, 0, 1, 0, 1, 1],\n",
       "       [0, 1, 0, 1, 0, 0],\n",
       "       [0, 0, 1, 0, 1, 0],\n",
       "       [0, 1, 0, 1, 0, 0],\n",
       "       [0, 1, 0, 0, 0, 0]])"
      ]
     },
     "execution_count": 23,
     "metadata": {},
     "output_type": "execute_result"
    }
   ],
   "source": [
    "C"
   ]
  },
  {
   "cell_type": "code",
   "execution_count": 24,
   "metadata": {},
   "outputs": [
    {
     "name": "stdout",
     "output_type": "stream",
     "text": [
      "[[0.        1.5849625 0.        0.        0.        0.       ]\n",
      " [1.5849625 0.        0.5849625 0.        0.5849625 1.5849625]\n",
      " [0.        0.5849625 0.        1.5849625 0.        0.       ]\n",
      " [0.        0.        1.5849625 0.        1.5849625 0.       ]\n",
      " [0.        0.5849625 0.        1.5849625 0.        0.       ]\n",
      " [0.        1.5849625 0.        0.        0.        0.       ]]\n"
     ]
    }
   ],
   "source": [
    "W = ppmi(C)\n",
    "print(W)"
   ]
  },
  {
   "cell_type": "code",
   "execution_count": 25,
   "metadata": {},
   "outputs": [
    {
     "name": "stdout",
     "output_type": "stream",
     "text": [
      "---U---\n",
      "[[-4.5236292e-01  0.0000000e+00  0.0000000e+00 -5.4347748e-01\n",
      "   1.8343325e-01 -6.8289989e-01]\n",
      " [ 5.5511151e-17 -7.6859325e-01  6.3973778e-01  0.0000000e+00\n",
      "   0.0000000e+00  0.0000000e+00]\n",
      " [-5.4347748e-01  2.2194280e-17  5.5553814e-17  4.5236292e-01\n",
      "   6.8289989e-01  1.8343325e-01]\n",
      " [-1.1102230e-16 -6.3973778e-01 -7.6859325e-01  0.0000000e+00\n",
      "   0.0000000e+00  0.0000000e+00]\n",
      " [-5.4347748e-01  2.2194280e-17  5.5553814e-17  4.5236292e-01\n",
      "  -6.8289989e-01 -1.8343325e-01]\n",
      " [-4.5236292e-01  1.3242758e-17  3.3147536e-17 -5.4347748e-01\n",
      "  -1.8343325e-01  6.8289989e-01]]\n",
      "---S---\n",
      "[2.6929517e+00 2.6929517e+00 1.8656898e+00 1.8656898e+00 2.1982017e-17\n",
      " 1.2378395e-35]\n",
      "---V---\n",
      "[[ 1.76952594e-17 -7.68593252e-01  8.46085246e-18 -6.39737785e-01\n",
      "   8.46085246e-18  6.68263600e-17]\n",
      " [-4.52362925e-01  0.00000000e+00 -5.43477476e-01  0.00000000e+00\n",
      "  -5.43477476e-01 -4.52362925e-01]\n",
      " [ 5.43477476e-01  1.94289029e-16 -4.52362925e-01  0.00000000e+00\n",
      "  -4.52362925e-01  5.43477476e-01]\n",
      " [-4.02199119e-18 -6.39737785e-01 -1.31454956e-17  7.68593252e-01\n",
      "  -9.64122216e-17 -6.59296966e-19]\n",
      " [ 1.13579151e-16  1.78471761e-16  7.07106769e-01 -2.01882481e-16\n",
      "  -7.07106769e-01 -9.36725266e-17]\n",
      " [-7.07106769e-01  0.00000000e+00  9.53354442e-17 -2.03810818e-17\n",
      "  -1.26709154e-16  7.07106769e-01]]\n"
     ]
    }
   ],
   "source": [
    "U, S, V = np.linalg.svd(W)\n",
    "print(\"---U---\")\n",
    "print(U)\n",
    "print(\"---S---\")\n",
    "print(S)\n",
    "print(\"---V---\")\n",
    "print(V)"
   ]
  },
  {
   "cell_type": "code",
   "execution_count": 28,
   "metadata": {},
   "outputs": [
    {
     "data": {
      "image/png": "[encoded data removed]",
      "text/plain": [
       "<Figure size 432x288 with 1 Axes>"
      ]
     },
     "metadata": {
      "needs_background": "light"
     },
     "output_type": "display_data"
    }
   ],
   "source": [
    "for word, word_id, in word_to_id.items():\n",
    "    plt.annotate(word, (U[word_id, 0], U[word_id, 1]))\n",
    "    \n",
    "plt.scatter(U[:,0], U[:,1], alpha=0.5)\n",
    "plt.show()"
   ]
  },
  {
   "cell_type": "code",
   "execution_count": null,
   "metadata": {},
   "outputs": [],
   "source": []
  }
 ],
 "metadata": {
  "kernelspec": {
   "display_name": "Python 3",
   "language": "python",
   "name": "python3"
  },
  "language_info": {
   "codemirror_mode": {
    "name": "ipython",
    "version": 3
   },
   "file_extension": ".py",
   "mimetype": "text/x-python",
   "name": "python",
   "nbconvert_exporter": "python",
   "pygments_lexer": "ipython3",
   "version": "3.7.7"
  }
 },
 "nbformat": 4,
 "nbformat_minor": 4
}
