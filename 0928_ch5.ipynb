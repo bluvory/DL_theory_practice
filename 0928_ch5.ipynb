{
 "cells": [
  {
   "cell_type": "markdown",
   "metadata": {},
   "source": [
    "## Gradient Descent Test"
   ]
  },
  {
   "cell_type": "code",
   "execution_count": 18,
   "metadata": {},
   "outputs": [],
   "source": [
    "import numpy as np"
   ]
  },
  {
   "cell_type": "code",
   "execution_count": 19,
   "metadata": {},
   "outputs": [],
   "source": [
    "# f(x,y) = x^2 + y^2\n",
    "def f(x):\n",
    "    return x[0]**2 + x[1]**2"
   ]
  },
  {
   "cell_type": "code",
   "execution_count": 20,
   "metadata": {},
   "outputs": [],
   "source": [
    "def fx(x):\n",
    "    return 2*x[0]\n",
    "\n",
    "def fy(x):\n",
    "    return 2*x[1]"
   ]
  },
  {
   "cell_type": "code",
   "execution_count": 53,
   "metadata": {},
   "outputs": [],
   "source": [
    "def gradient_descent(fx, fy, init_x, lr=0.01, step_num=100):\n",
    "    x = init_x\n",
    "    for i in range(step_num):\n",
    "        x0prev = x[0]\n",
    "        x1prev = x[1]\n",
    "        dx = -fx(x)\n",
    "        dy = -fy(x)\n",
    "        x[0] = x[0] + lr*dx\n",
    "        x[1] = x[1] + lr*dy\n",
    "        \n",
    "        norm_x = np.sqrt((x[0]-x0prev)**2 + (x[1]-x1prev)**2)\n",
    "        # 업데이트한후의 벡터와 업데이트전의 벡터의 크기 계산 => 거의 변함 없을때까지\n",
    "        if norm_x < 1e-8:\n",
    "            print('Converges at', i)\n",
    "            break\n",
    "        \n",
    "    print(\"Min of f can be attained at (\", x[0], \",\", x[1], \")\")"
   ]
  },
  {
   "cell_type": "code",
   "execution_count": 54,
   "metadata": {},
   "outputs": [],
   "source": [
    "init_x = np.array([-3.0, 4.0])"
   ]
  },
  {
   "cell_type": "code",
   "execution_count": 48,
   "metadata": {},
   "outputs": [
    {
     "name": "stdout",
     "output_type": "stream",
     "text": [
      "Min of f can be attained at ( -0.39785866768425965 , 0.5304782235790126 )\n"
     ]
    }
   ],
   "source": [
    "gradient_descent(fx, fy, init_x=init_x)"
   ]
  },
  {
   "cell_type": "code",
   "execution_count": 49,
   "metadata": {},
   "outputs": [
    {
     "name": "stdout",
     "output_type": "stream",
     "text": [
      "Converges at 74\n",
      "Min of f can be attained at ( -2.1452496923662514e-08 , 2.8603329231549993e-08 )\n"
     ]
    }
   ],
   "source": [
    "gradient_descent(fx, fy, init_x=init_x, lr=0.1)"
   ]
  },
  {
   "cell_type": "code",
   "execution_count": 50,
   "metadata": {},
   "outputs": [
    {
     "name": "stdout",
     "output_type": "stream",
     "text": [
      "Min of f can be attained at ( -2.1452496923662514e-08 , 2.8603329231549993e-08 )\n"
     ]
    }
   ],
   "source": [
    "gradient_descent(fx, fy, init_x=init_x, lr=1)"
   ]
  },
  {
   "cell_type": "code",
   "execution_count": 51,
   "metadata": {},
   "outputs": [
    {
     "name": "stdout",
     "output_type": "stream",
     "text": [
      "Min of f can be attained at ( -1.610044737228875e+120 , 2.1467263163051672e+120 )\n"
     ]
    }
   ],
   "source": [
    "gradient_descent(fx, fy, init_x=init_x, lr=10)"
   ]
  },
  {
   "cell_type": "code",
   "execution_count": 55,
   "metadata": {},
   "outputs": [
    {
     "name": "stdout",
     "output_type": "stream",
     "text": [
      "Converges at 798\n",
      "Min of f can be attained at ( -2.9292452410337725e-07 , 3.905660321378359e-07 )\n"
     ]
    }
   ],
   "source": [
    "gradient_descent(fx, fy, init_x=init_x, lr=0.01, step_num = 10000)"
   ]
  },
  {
   "cell_type": "code",
   "execution_count": 3,
   "metadata": {},
   "outputs": [
    {
     "data": {
      "text/plain": [
       "array([[0.42819481, 0.58966465, 0.8419294 ],\n",
       "       [0.90208611, 0.996651  , 0.38099442]])"
      ]
     },
     "execution_count": 3,
     "metadata": {},
     "output_type": "execute_result"
    }
   ],
   "source": [
    "import numpy as np\n",
    "\n",
    "a = np.random.rand(2,3)\n",
    "a"
   ]
  },
  {
   "cell_type": "code",
   "execution_count": 11,
   "metadata": {},
   "outputs": [
    {
     "data": {
      "text/plain": [
       "array([[-0.80130105,  0.48534295, -1.13451484],\n",
       "       [-1.09783157,  0.77537311, -0.50058085]])"
      ]
     },
     "execution_count": 11,
     "metadata": {},
     "output_type": "execute_result"
    }
   ],
   "source": [
    "b = np.random.randn(2,3)\n",
    "b"
   ]
  },
  {
   "cell_type": "code",
   "execution_count": 12,
   "metadata": {},
   "outputs": [
    {
     "data": {
      "text/plain": [
       "-2.2735122497725038"
      ]
     },
     "execution_count": 12,
     "metadata": {},
     "output_type": "execute_result"
    }
   ],
   "source": [
    "np.sum(b)"
   ]
  },
  {
   "cell_type": "code",
   "execution_count": null,
   "metadata": {},
   "outputs": [],
   "source": []
  }
 ],
 "metadata": {
  "kernelspec": {
   "display_name": "Python 3",
   "language": "python",
   "name": "python3"
  },
  "language_info": {
   "codemirror_mode": {
    "name": "ipython",
    "version": 3
   },
   "file_extension": ".py",
   "mimetype": "text/x-python",
   "name": "python",
   "nbconvert_exporter": "python",
   "pygments_lexer": "ipython3",
   "version": "3.7.7"
  }
 },
 "nbformat": 4,
 "nbformat_minor": 4
}
