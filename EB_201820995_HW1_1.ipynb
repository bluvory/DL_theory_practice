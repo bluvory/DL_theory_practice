{
 "cells": [
  {
   "cell_type": "code",
   "execution_count": 1,
   "metadata": {},
   "outputs": [],
   "source": [
    "def Naive_Gauss(a, b, x):\n",
    "    \n",
    "    n = len(a)\n",
    "    \n",
    "    for k in range(0, n-1):      \n",
    "        for i in range(k+1, n):  \n",
    "            xmult = a[i][k]/a[k][k]\n",
    "            a[i][k] = xmult\n",
    "            for j in range(k+1, n):\n",
    "                a[i][j] = a[i][j] - xmult*a[k][j]\n",
    "            b[i][0] = b[i][0] - xmult*b[k][0]\n",
    "            \n",
    "    x[n-1][0] = b[n-1][0]/a[n-1][n-1]\n",
    "    \n",
    "    for i in range(n-2, -1, -1):\n",
    "        sum1 = b[i][0]\n",
    "        for j in range(i+1, n):\n",
    "            sum1 = sum1 - a[i][j]*x[j][0] \n",
    "        x[i][0] = sum1/a[i][i]\n",
    "        \n",
    "    return x"
   ]
  },
  {
   "cell_type": "code",
   "execution_count": 2,
   "metadata": {},
   "outputs": [
    {
     "data": {
      "text/plain": [
       "[[3.0], [1.0], [-2.0], [1.0]]"
      ]
     },
     "execution_count": 2,
     "metadata": {},
     "output_type": "execute_result"
    }
   ],
   "source": [
    "A = [[6,  -2,  2,  4],\n",
    "     [12, -8,  6,  10],\n",
    "     [3,  -13, 9,  3],\n",
    "     [-6,  4,  1, -18]]\n",
    "\n",
    "b = [[16],\n",
    "     [26],\n",
    "     [-19],\n",
    "     [-34]]\n",
    "\n",
    "x = [[0],\n",
    "     [0],\n",
    "     [0],\n",
    "     [0]]\n",
    "\n",
    "Naive_Gauss(A, b, x)"
   ]
  },
  {
   "cell_type": "code",
   "execution_count": null,
   "metadata": {},
   "outputs": [],
   "source": []
  }
 ],
 "metadata": {
  "kernelspec": {
   "display_name": "Python 3",
   "language": "python",
   "name": "python3"
  },
  "language_info": {
   "codemirror_mode": {
    "name": "ipython",
    "version": 3
   },
   "file_extension": ".py",
   "mimetype": "text/x-python",
   "name": "python",
   "nbconvert_exporter": "python",
   "pygments_lexer": "ipython3",
   "version": "3.7.7"
  }
 },
 "nbformat": 4,
 "nbformat_minor": 4
}
